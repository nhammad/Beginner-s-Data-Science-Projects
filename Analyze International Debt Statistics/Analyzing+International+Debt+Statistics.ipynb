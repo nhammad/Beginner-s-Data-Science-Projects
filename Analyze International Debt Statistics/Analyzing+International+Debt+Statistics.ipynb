{
 "cells": [
  {
   "cell_type": "markdown",
   "metadata": {},
   "source": [
    "## 1. The World Bank's international debt data\n",
    "\n",
    "Let's analyze the country-wise international debt data collected by The World Bank. The dataset contains information about the amount of debt (in USD) owed by developing countries across several categories. We are going to address questions like:\n",
    "\n",
    "* What is the total amount of debt that is owed by the countries listed in the dataset?\n",
    "* Which country owns the maximum amount of debt and what does that amount look like?\n",
    "* What is the average amount of debt owed by countries across different debt indicators?\n",
    "\n",
    "Let's connect to the international_debt database and explore the table's structure by seeing its first 10 rows.\n"
   ]
  },
  {
   "cell_type": "code",
   "execution_count": 1,
   "metadata": {},
   "outputs": [
    {
     "name": "stdout",
     "output_type": "stream",
     "text": [
      "10 rows affected.\n"
     ]
    },
    {
     "data": {
      "text/html": [
       "<table>\n",
       "    <tr>\n",
       "        <th>country_name</th>\n",
       "        <th>country_code</th>\n",
       "        <th>indicator_name</th>\n",
       "        <th>indicator_code</th>\n",
       "        <th>debt</th>\n",
       "    </tr>\n",
       "    <tr>\n",
       "        <td>Afghanistan</td>\n",
       "        <td>AFG</td>\n",
       "        <td>Disbursements on external debt, long-term (DIS, current US$)</td>\n",
       "        <td>DT.DIS.DLXF.CD</td>\n",
       "        <td>72894453.700000003</td>\n",
       "    </tr>\n",
       "    <tr>\n",
       "        <td>Afghanistan</td>\n",
       "        <td>AFG</td>\n",
       "        <td>Interest payments on external debt, long-term (INT, current US$)</td>\n",
       "        <td>DT.INT.DLXF.CD</td>\n",
       "        <td>53239440.100000001</td>\n",
       "    </tr>\n",
       "    <tr>\n",
       "        <td>Afghanistan</td>\n",
       "        <td>AFG</td>\n",
       "        <td>PPG, bilateral (AMT, current US$)</td>\n",
       "        <td>DT.AMT.BLAT.CD</td>\n",
       "        <td>61739336.899999999</td>\n",
       "    </tr>\n",
       "    <tr>\n",
       "        <td>Afghanistan</td>\n",
       "        <td>AFG</td>\n",
       "        <td>PPG, bilateral (DIS, current US$)</td>\n",
       "        <td>DT.DIS.BLAT.CD</td>\n",
       "        <td>49114729.399999999</td>\n",
       "    </tr>\n",
       "    <tr>\n",
       "        <td>Afghanistan</td>\n",
       "        <td>AFG</td>\n",
       "        <td>PPG, bilateral (INT, current US$)</td>\n",
       "        <td>DT.INT.BLAT.CD</td>\n",
       "        <td>39903620.100000001</td>\n",
       "    </tr>\n",
       "    <tr>\n",
       "        <td>Afghanistan</td>\n",
       "        <td>AFG</td>\n",
       "        <td>PPG, multilateral (AMT, current US$)</td>\n",
       "        <td>DT.AMT.MLAT.CD</td>\n",
       "        <td>39107845</td>\n",
       "    </tr>\n",
       "    <tr>\n",
       "        <td>Afghanistan</td>\n",
       "        <td>AFG</td>\n",
       "        <td>PPG, multilateral (DIS, current US$)</td>\n",
       "        <td>DT.DIS.MLAT.CD</td>\n",
       "        <td>23779724.300000001</td>\n",
       "    </tr>\n",
       "    <tr>\n",
       "        <td>Afghanistan</td>\n",
       "        <td>AFG</td>\n",
       "        <td>PPG, multilateral (INT, current US$)</td>\n",
       "        <td>DT.INT.MLAT.CD</td>\n",
       "        <td>13335820</td>\n",
       "    </tr>\n",
       "    <tr>\n",
       "        <td>Afghanistan</td>\n",
       "        <td>AFG</td>\n",
       "        <td>PPG, official creditors (AMT, current US$)</td>\n",
       "        <td>DT.AMT.OFFT.CD</td>\n",
       "        <td>100847181.900000006</td>\n",
       "    </tr>\n",
       "    <tr>\n",
       "        <td>Afghanistan</td>\n",
       "        <td>AFG</td>\n",
       "        <td>PPG, official creditors (DIS, current US$)</td>\n",
       "        <td>DT.DIS.OFFT.CD</td>\n",
       "        <td>72894453.700000003</td>\n",
       "    </tr>\n",
       "</table>"
      ],
      "text/plain": [
       "[('Afghanistan', 'AFG', 'Disbursements on external debt, long-term (DIS, current US$)', 'DT.DIS.DLXF.CD', Decimal('72894453.700000003')),\n",
       " ('Afghanistan', 'AFG', 'Interest payments on external debt, long-term (INT, current US$)', 'DT.INT.DLXF.CD', Decimal('53239440.100000001')),\n",
       " ('Afghanistan', 'AFG', 'PPG, bilateral (AMT, current US$)', 'DT.AMT.BLAT.CD', Decimal('61739336.899999999')),\n",
       " ('Afghanistan', 'AFG', 'PPG, bilateral (DIS, current US$)', 'DT.DIS.BLAT.CD', Decimal('49114729.399999999')),\n",
       " ('Afghanistan', 'AFG', 'PPG, bilateral (INT, current US$)', 'DT.INT.BLAT.CD', Decimal('39903620.100000001')),\n",
       " ('Afghanistan', 'AFG', 'PPG, multilateral (AMT, current US$)', 'DT.AMT.MLAT.CD', Decimal('39107845')),\n",
       " ('Afghanistan', 'AFG', 'PPG, multilateral (DIS, current US$)', 'DT.DIS.MLAT.CD', Decimal('23779724.300000001')),\n",
       " ('Afghanistan', 'AFG', 'PPG, multilateral (INT, current US$)', 'DT.INT.MLAT.CD', Decimal('13335820')),\n",
       " ('Afghanistan', 'AFG', 'PPG, official creditors (AMT, current US$)', 'DT.AMT.OFFT.CD', Decimal('100847181.900000006')),\n",
       " ('Afghanistan', 'AFG', 'PPG, official creditors (DIS, current US$)', 'DT.DIS.OFFT.CD', Decimal('72894453.700000003'))]"
      ]
     },
     "execution_count": 1,
     "metadata": {},
     "output_type": "execute_result"
    }
   ],
   "source": [
    "%%sql\n",
    "postgresql:///international_debt\n",
    "SELECT *\n",
    "FROM international_debt LIMIT 10"
   ]
  },
  {
   "cell_type": "markdown",
   "metadata": {},
   "source": [
    "## 2. Finding the number of distinct countries\n",
    "\n",
    "From the first ten rows, we can see the amount of debt owed by Afghanistan in the different debt indicators. But we do not know the number of different countries we have on the table. There are repetitions in the country names because a country is most likely to have debt in more than one debt indicator.\n",
    "\n",
    "Without a count of unique countries, we will not be able to perform our statistical analyses holistically. Now, let's extract the number of unique countries present in the table. "
   ]
  },
  {
   "cell_type": "code",
   "execution_count": 2,
   "metadata": {},
   "outputs": [
    {
     "name": "stdout",
     "output_type": "stream",
     "text": [
      " * postgresql:///international_debt\n",
      "1 rows affected.\n"
     ]
    },
    {
     "data": {
      "text/html": [
       "<table>\n",
       "    <tr>\n",
       "        <th>total_distinct_countries</th>\n",
       "    </tr>\n",
       "    <tr>\n",
       "        <td>124</td>\n",
       "    </tr>\n",
       "</table>"
      ],
      "text/plain": [
       "[(124,)]"
      ]
     },
     "execution_count": 2,
     "metadata": {},
     "output_type": "execute_result"
    }
   ],
   "source": [
    "%%sql\n",
    "SELECT \n",
    "   COUNT(DISTINCT country_name) AS total_distinct_countries\n",
    "FROM international_debt;"
   ]
  },
  {
   "cell_type": "markdown",
   "metadata": {},
   "source": [
    "## 3. Finding out the distinct debt indicators\n",
    "\n",
    "We can see there are a total of 124 countries present on the table. As we saw in the first section, there is a column called indicator_name that briefly specifies the purpose of taking the debt. Just beside that column, there is another column called indicator_code which symbolizes the category of these debts. Knowing about these various debt indicators will help us to understand the areas in which a country can possibly be indebted to. "
   ]
  },
  {
   "cell_type": "code",
   "execution_count": 3,
   "metadata": {},
   "outputs": [
    {
     "name": "stdout",
     "output_type": "stream",
     "text": [
      " * postgresql:///international_debt\n",
      "25 rows affected.\n"
     ]
    },
    {
     "data": {
      "text/html": [
       "<table>\n",
       "    <tr>\n",
       "        <th>distinct_debt_indicators</th>\n",
       "    </tr>\n",
       "    <tr>\n",
       "        <td>DT.AMT.BLAT.CD</td>\n",
       "    </tr>\n",
       "    <tr>\n",
       "        <td>DT.AMT.DLXF.CD</td>\n",
       "    </tr>\n",
       "    <tr>\n",
       "        <td>DT.AMT.DPNG.CD</td>\n",
       "    </tr>\n",
       "    <tr>\n",
       "        <td>DT.AMT.MLAT.CD</td>\n",
       "    </tr>\n",
       "    <tr>\n",
       "        <td>DT.AMT.OFFT.CD</td>\n",
       "    </tr>\n",
       "    <tr>\n",
       "        <td>DT.AMT.PBND.CD</td>\n",
       "    </tr>\n",
       "    <tr>\n",
       "        <td>DT.AMT.PCBK.CD</td>\n",
       "    </tr>\n",
       "    <tr>\n",
       "        <td>DT.AMT.PROP.CD</td>\n",
       "    </tr>\n",
       "    <tr>\n",
       "        <td>DT.AMT.PRVT.CD</td>\n",
       "    </tr>\n",
       "    <tr>\n",
       "        <td>DT.DIS.BLAT.CD</td>\n",
       "    </tr>\n",
       "    <tr>\n",
       "        <td>DT.DIS.DLXF.CD</td>\n",
       "    </tr>\n",
       "    <tr>\n",
       "        <td>DT.DIS.MLAT.CD</td>\n",
       "    </tr>\n",
       "    <tr>\n",
       "        <td>DT.DIS.OFFT.CD</td>\n",
       "    </tr>\n",
       "    <tr>\n",
       "        <td>DT.DIS.PCBK.CD</td>\n",
       "    </tr>\n",
       "    <tr>\n",
       "        <td>DT.DIS.PROP.CD</td>\n",
       "    </tr>\n",
       "    <tr>\n",
       "        <td>DT.DIS.PRVT.CD</td>\n",
       "    </tr>\n",
       "    <tr>\n",
       "        <td>DT.INT.BLAT.CD</td>\n",
       "    </tr>\n",
       "    <tr>\n",
       "        <td>DT.INT.DLXF.CD</td>\n",
       "    </tr>\n",
       "    <tr>\n",
       "        <td>DT.INT.DPNG.CD</td>\n",
       "    </tr>\n",
       "    <tr>\n",
       "        <td>DT.INT.MLAT.CD</td>\n",
       "    </tr>\n",
       "    <tr>\n",
       "        <td>DT.INT.OFFT.CD</td>\n",
       "    </tr>\n",
       "    <tr>\n",
       "        <td>DT.INT.PBND.CD</td>\n",
       "    </tr>\n",
       "    <tr>\n",
       "        <td>DT.INT.PCBK.CD</td>\n",
       "    </tr>\n",
       "    <tr>\n",
       "        <td>DT.INT.PROP.CD</td>\n",
       "    </tr>\n",
       "    <tr>\n",
       "        <td>DT.INT.PRVT.CD</td>\n",
       "    </tr>\n",
       "</table>"
      ],
      "text/plain": [
       "[('DT.AMT.BLAT.CD',),\n",
       " ('DT.AMT.DLXF.CD',),\n",
       " ('DT.AMT.DPNG.CD',),\n",
       " ('DT.AMT.MLAT.CD',),\n",
       " ('DT.AMT.OFFT.CD',),\n",
       " ('DT.AMT.PBND.CD',),\n",
       " ('DT.AMT.PCBK.CD',),\n",
       " ('DT.AMT.PROP.CD',),\n",
       " ('DT.AMT.PRVT.CD',),\n",
       " ('DT.DIS.BLAT.CD',),\n",
       " ('DT.DIS.DLXF.CD',),\n",
       " ('DT.DIS.MLAT.CD',),\n",
       " ('DT.DIS.OFFT.CD',),\n",
       " ('DT.DIS.PCBK.CD',),\n",
       " ('DT.DIS.PROP.CD',),\n",
       " ('DT.DIS.PRVT.CD',),\n",
       " ('DT.INT.BLAT.CD',),\n",
       " ('DT.INT.DLXF.CD',),\n",
       " ('DT.INT.DPNG.CD',),\n",
       " ('DT.INT.MLAT.CD',),\n",
       " ('DT.INT.OFFT.CD',),\n",
       " ('DT.INT.PBND.CD',),\n",
       " ('DT.INT.PCBK.CD',),\n",
       " ('DT.INT.PROP.CD',),\n",
       " ('DT.INT.PRVT.CD',)]"
      ]
     },
     "execution_count": 3,
     "metadata": {},
     "output_type": "execute_result"
    }
   ],
   "source": [
    "%%sql\n",
    "SELECT DISTINCT indicator_code AS distinct_debt_indicators\n",
    "FROM international_debt\n",
    "ORDER BY distinct_debt_indicators"
   ]
  },
  {
   "cell_type": "markdown",
   "metadata": {},
   "source": [
    "## 4. Totaling the amount of debt owed by the countries\n",
    "\n",
    "As mentioned earlier, the financial debt of a particular country represents its economic state. But if we were to project this on an overall global scale, how will we approach it?\n",
    "\n",
    "Let's switch gears from the debt indicators now and find out the total amount of debt (in USD) that is owed by the different countries. This will give us a sense of how the overall economy of the entire world is holding up."
   ]
  },
  {
   "cell_type": "code",
   "execution_count": 4,
   "metadata": {},
   "outputs": [
    {
     "name": "stdout",
     "output_type": "stream",
     "text": [
      " * postgresql:///international_debt\n",
      "1 rows affected.\n"
     ]
    },
    {
     "data": {
      "text/html": [
       "<table>\n",
       "    <tr>\n",
       "        <th>total_debt</th>\n",
       "    </tr>\n",
       "    <tr>\n",
       "        <td>3079734.49</td>\n",
       "    </tr>\n",
       "</table>"
      ],
      "text/plain": [
       "[(Decimal('3079734.49'),)]"
      ]
     },
     "execution_count": 4,
     "metadata": {},
     "output_type": "execute_result"
    }
   ],
   "source": [
    "%%sql\n",
    "SELECT \n",
    "    ROUND(SUM(debt)/1000000,2) AS total_debt\n",
    "FROM international_debt; "
   ]
  },
  {
   "cell_type": "markdown",
   "metadata": {},
   "source": [
    "## 5. Country with the highest debt\n",
    "\n",
    "Now that we have the exact total of the amounts of debt owed by several countries, let's now find out the country that owns the highest amount of debt along with the amount. Note that this debt is the sum of different debts owed by a country across several categories. This will help to understand more about the country in terms of its socio-economic scenarios. We can also find out the category in which the country owns its highest debt. But we will leave that for now. "
   ]
  },
  {
   "cell_type": "code",
   "execution_count": 5,
   "metadata": {},
   "outputs": [
    {
     "name": "stdout",
     "output_type": "stream",
     "text": [
      " * postgresql:///international_debt\n",
      "1 rows affected.\n"
     ]
    },
    {
     "data": {
      "text/html": [
       "<table>\n",
       "    <tr>\n",
       "        <th>country_name</th>\n",
       "        <th>total_debt</th>\n",
       "    </tr>\n",
       "    <tr>\n",
       "        <td>China</td>\n",
       "        <td>285793494734.200001568</td>\n",
       "    </tr>\n",
       "</table>"
      ],
      "text/plain": [
       "[('China', Decimal('285793494734.200001568'))]"
      ]
     },
     "execution_count": 5,
     "metadata": {},
     "output_type": "execute_result"
    }
   ],
   "source": [
    "%%sql\n",
    "SELECT \n",
    "    country_name, \n",
    "    SUM(debt) as total_debt\n",
    "FROM international_debt\n",
    "GROUP BY country_name\n",
    "ORDER BY total_debt DESC\n",
    "LIMIT 1;"
   ]
  },
  {
   "cell_type": "markdown",
   "metadata": {},
   "source": [
    "## 6. Average amount of debt across indicators\n",
    "\n",
    "So, it was China. \n",
    "\n",
    "We can dig even further to find out on an average how much debt a country owes. This will give us a better sense of the distribution of the amount of debt across different indicators."
   ]
  },
  {
   "cell_type": "code",
   "execution_count": 6,
   "metadata": {},
   "outputs": [
    {
     "name": "stdout",
     "output_type": "stream",
     "text": [
      " * postgresql:///international_debt\n",
      "10 rows affected.\n"
     ]
    },
    {
     "data": {
      "text/html": [
       "<table>\n",
       "    <tr>\n",
       "        <th>debt_indicator</th>\n",
       "        <th>indicator_name</th>\n",
       "        <th>average_debt</th>\n",
       "    </tr>\n",
       "    <tr>\n",
       "        <td>DT.AMT.DLXF.CD</td>\n",
       "        <td>Principal repayments on external debt, long-term (AMT, current US$)</td>\n",
       "        <td>5904868401.499193612</td>\n",
       "    </tr>\n",
       "    <tr>\n",
       "        <td>DT.AMT.DPNG.CD</td>\n",
       "        <td>Principal repayments on external debt, private nonguaranteed (PNG) (AMT, current US$)</td>\n",
       "        <td>5161194333.812658349</td>\n",
       "    </tr>\n",
       "    <tr>\n",
       "        <td>DT.DIS.DLXF.CD</td>\n",
       "        <td>Disbursements on external debt, long-term (DIS, current US$)</td>\n",
       "        <td>2152041216.890243888</td>\n",
       "    </tr>\n",
       "    <tr>\n",
       "        <td>DT.DIS.OFFT.CD</td>\n",
       "        <td>PPG, official creditors (DIS, current US$)</td>\n",
       "        <td>1958983452.859836046</td>\n",
       "    </tr>\n",
       "    <tr>\n",
       "        <td>DT.AMT.PRVT.CD</td>\n",
       "        <td>PPG, private creditors (AMT, current US$)</td>\n",
       "        <td>1803694101.963265321</td>\n",
       "    </tr>\n",
       "    <tr>\n",
       "        <td>DT.INT.DLXF.CD</td>\n",
       "        <td>Interest payments on external debt, long-term (INT, current US$)</td>\n",
       "        <td>1644024067.650806481</td>\n",
       "    </tr>\n",
       "    <tr>\n",
       "        <td>DT.DIS.BLAT.CD</td>\n",
       "        <td>PPG, bilateral (DIS, current US$)</td>\n",
       "        <td>1223139290.398230108</td>\n",
       "    </tr>\n",
       "    <tr>\n",
       "        <td>DT.INT.DPNG.CD</td>\n",
       "        <td>Interest payments on external debt, private nonguaranteed (PNG) (INT, current US$)</td>\n",
       "        <td>1220410844.421518983</td>\n",
       "    </tr>\n",
       "    <tr>\n",
       "        <td>DT.AMT.OFFT.CD</td>\n",
       "        <td>PPG, official creditors (AMT, current US$)</td>\n",
       "        <td>1191187963.083064523</td>\n",
       "    </tr>\n",
       "    <tr>\n",
       "        <td>DT.AMT.PBND.CD</td>\n",
       "        <td>PPG, bonds (AMT, current US$)</td>\n",
       "        <td>1082623947.653623188</td>\n",
       "    </tr>\n",
       "</table>"
      ],
      "text/plain": [
       "[('DT.AMT.DLXF.CD', 'Principal repayments on external debt, long-term (AMT, current US$)', Decimal('5904868401.499193612')),\n",
       " ('DT.AMT.DPNG.CD', 'Principal repayments on external debt, private nonguaranteed (PNG) (AMT, current US$)', Decimal('5161194333.812658349')),\n",
       " ('DT.DIS.DLXF.CD', 'Disbursements on external debt, long-term (DIS, current US$)', Decimal('2152041216.890243888')),\n",
       " ('DT.DIS.OFFT.CD', 'PPG, official creditors (DIS, current US$)', Decimal('1958983452.859836046')),\n",
       " ('DT.AMT.PRVT.CD', 'PPG, private creditors (AMT, current US$)', Decimal('1803694101.963265321')),\n",
       " ('DT.INT.DLXF.CD', 'Interest payments on external debt, long-term (INT, current US$)', Decimal('1644024067.650806481')),\n",
       " ('DT.DIS.BLAT.CD', 'PPG, bilateral (DIS, current US$)', Decimal('1223139290.398230108')),\n",
       " ('DT.INT.DPNG.CD', 'Interest payments on external debt, private nonguaranteed (PNG) (INT, current US$)', Decimal('1220410844.421518983')),\n",
       " ('DT.AMT.OFFT.CD', 'PPG, official creditors (AMT, current US$)', Decimal('1191187963.083064523')),\n",
       " ('DT.AMT.PBND.CD', 'PPG, bonds (AMT, current US$)', Decimal('1082623947.653623188'))]"
      ]
     },
     "execution_count": 6,
     "metadata": {},
     "output_type": "execute_result"
    }
   ],
   "source": [
    "%%sql\n",
    "SELECT \n",
    "    indicator_code AS debt_indicator,\n",
    "    indicator_name,\n",
    "    AVG(debt) AS average_debt\n",
    "FROM international_debt\n",
    "GROUP BY debt_indicator,indicator_name\n",
    "ORDER BY average_debt DESC\n",
    "LIMIT 10;"
   ]
  },
  {
   "cell_type": "markdown",
   "metadata": {},
   "source": [
    "## 7. The highest amount of principal repayments\n",
    "\n",
    "We can see that the indicator DT.AMT.DLXF.CD tops the chart of average debt. This category includes repayment of long term debts. Countries take on long-term debt to acquire immediate capital.\n",
    "\n",
    "An interesting observation in the above finding is that there is a huge difference in the amounts of the indicators after the second one. This indicates that the first two indicators might be the most severe categories in which the countries owe their debts.\n",
    "\n",
    "We can investigate this a bit more so as to find out which country owes the highest amount of debt in the category of long term debts (DT.AMT.DLXF.CD). Since not all the countries suffer from the same kind of economic disturbances, this finding will allow us to understand that particular country's economic condition a bit more specifically. "
   ]
  },
  {
   "cell_type": "code",
   "execution_count": 7,
   "metadata": {},
   "outputs": [
    {
     "name": "stdout",
     "output_type": "stream",
     "text": [
      " * postgresql:///international_debt\n",
      "1 rows affected.\n"
     ]
    },
    {
     "data": {
      "text/html": [
       "<table>\n",
       "    <tr>\n",
       "        <th>country_name</th>\n",
       "        <th>indicator_name</th>\n",
       "    </tr>\n",
       "    <tr>\n",
       "        <td>China</td>\n",
       "        <td>Principal repayments on external debt, long-term (AMT, current US$)</td>\n",
       "    </tr>\n",
       "</table>"
      ],
      "text/plain": [
       "[('China', 'Principal repayments on external debt, long-term (AMT, current US$)')]"
      ]
     },
     "execution_count": 7,
     "metadata": {},
     "output_type": "execute_result"
    }
   ],
   "source": [
    "%%sql\n",
    "SELECT \n",
    "    country_name, \n",
    "    indicator_name\n",
    "FROM international_debt\n",
    "WHERE debt = (SELECT \n",
    "                 MAX(debt)\n",
    "             FROM international_debt\n",
    "             WHERE indicator_code = 'DT.AMT.DLXF.CD');"
   ]
  },
  {
   "cell_type": "markdown",
   "metadata": {},
   "source": [
    "## 8. The most common debt indicator\n",
    "\n",
    "China has the highest amount of debt in the long-term debt (DT.AMT.DLXF.CD) category. This is verified by The World Bank. It is often a good idea to verify our analyses like this since it validates that our investigations are correct.\n",
    "\n",
    "We saw that long-term debt is the topmost category when it comes to the average amount of debt. But is it the most common indicator in which the countries owe their debt? Let's find that out. "
   ]
  },
  {
   "cell_type": "code",
   "execution_count": 8,
   "metadata": {},
   "outputs": [
    {
     "name": "stdout",
     "output_type": "stream",
     "text": [
      " * postgresql:///international_debt\n",
      "20 rows affected.\n"
     ]
    },
    {
     "data": {
      "text/html": [
       "<table>\n",
       "    <tr>\n",
       "        <th>indicator_code</th>\n",
       "        <th>indicator_count</th>\n",
       "    </tr>\n",
       "    <tr>\n",
       "        <td>DT.INT.OFFT.CD</td>\n",
       "        <td>124</td>\n",
       "    </tr>\n",
       "    <tr>\n",
       "        <td>DT.INT.MLAT.CD</td>\n",
       "        <td>124</td>\n",
       "    </tr>\n",
       "    <tr>\n",
       "        <td>DT.INT.DLXF.CD</td>\n",
       "        <td>124</td>\n",
       "    </tr>\n",
       "    <tr>\n",
       "        <td>DT.AMT.OFFT.CD</td>\n",
       "        <td>124</td>\n",
       "    </tr>\n",
       "    <tr>\n",
       "        <td>DT.AMT.MLAT.CD</td>\n",
       "        <td>124</td>\n",
       "    </tr>\n",
       "    <tr>\n",
       "        <td>DT.AMT.DLXF.CD</td>\n",
       "        <td>124</td>\n",
       "    </tr>\n",
       "    <tr>\n",
       "        <td>DT.DIS.DLXF.CD</td>\n",
       "        <td>123</td>\n",
       "    </tr>\n",
       "    <tr>\n",
       "        <td>DT.INT.BLAT.CD</td>\n",
       "        <td>122</td>\n",
       "    </tr>\n",
       "    <tr>\n",
       "        <td>DT.DIS.OFFT.CD</td>\n",
       "        <td>122</td>\n",
       "    </tr>\n",
       "    <tr>\n",
       "        <td>DT.AMT.BLAT.CD</td>\n",
       "        <td>122</td>\n",
       "    </tr>\n",
       "    <tr>\n",
       "        <td>DT.DIS.MLAT.CD</td>\n",
       "        <td>120</td>\n",
       "    </tr>\n",
       "    <tr>\n",
       "        <td>DT.DIS.BLAT.CD</td>\n",
       "        <td>113</td>\n",
       "    </tr>\n",
       "    <tr>\n",
       "        <td>DT.INT.PRVT.CD</td>\n",
       "        <td>98</td>\n",
       "    </tr>\n",
       "    <tr>\n",
       "        <td>DT.AMT.PRVT.CD</td>\n",
       "        <td>98</td>\n",
       "    </tr>\n",
       "    <tr>\n",
       "        <td>DT.INT.PCBK.CD</td>\n",
       "        <td>84</td>\n",
       "    </tr>\n",
       "    <tr>\n",
       "        <td>DT.AMT.PCBK.CD</td>\n",
       "        <td>84</td>\n",
       "    </tr>\n",
       "    <tr>\n",
       "        <td>DT.INT.DPNG.CD</td>\n",
       "        <td>79</td>\n",
       "    </tr>\n",
       "    <tr>\n",
       "        <td>DT.AMT.DPNG.CD</td>\n",
       "        <td>79</td>\n",
       "    </tr>\n",
       "    <tr>\n",
       "        <td>DT.INT.PBND.CD</td>\n",
       "        <td>69</td>\n",
       "    </tr>\n",
       "    <tr>\n",
       "        <td>DT.AMT.PBND.CD</td>\n",
       "        <td>69</td>\n",
       "    </tr>\n",
       "</table>"
      ],
      "text/plain": [
       "[('DT.INT.OFFT.CD', 124),\n",
       " ('DT.INT.MLAT.CD', 124),\n",
       " ('DT.INT.DLXF.CD', 124),\n",
       " ('DT.AMT.OFFT.CD', 124),\n",
       " ('DT.AMT.MLAT.CD', 124),\n",
       " ('DT.AMT.DLXF.CD', 124),\n",
       " ('DT.DIS.DLXF.CD', 123),\n",
       " ('DT.INT.BLAT.CD', 122),\n",
       " ('DT.DIS.OFFT.CD', 122),\n",
       " ('DT.AMT.BLAT.CD', 122),\n",
       " ('DT.DIS.MLAT.CD', 120),\n",
       " ('DT.DIS.BLAT.CD', 113),\n",
       " ('DT.INT.PRVT.CD', 98),\n",
       " ('DT.AMT.PRVT.CD', 98),\n",
       " ('DT.INT.PCBK.CD', 84),\n",
       " ('DT.AMT.PCBK.CD', 84),\n",
       " ('DT.INT.DPNG.CD', 79),\n",
       " ('DT.AMT.DPNG.CD', 79),\n",
       " ('DT.INT.PBND.CD', 69),\n",
       " ('DT.AMT.PBND.CD', 69)]"
      ]
     },
     "execution_count": 8,
     "metadata": {},
     "output_type": "execute_result"
    }
   ],
   "source": [
    "%%sql\n",
    "SELECT \n",
    "    indicator_code,\n",
    "    COUNT(indicator_name) AS indicator_count\n",
    "FROM international_debt\n",
    "GROUP BY indicator_code \n",
    "ORDER BY indicator_count DESC, indicator_code DESC\n",
    "LIMIT 20;"
   ]
  },
  {
   "cell_type": "code",
   "execution_count": 9,
   "metadata": {},
   "outputs": [
    {
     "name": "stdout",
     "output_type": "stream",
     "text": [
      " * postgresql:///international_debt\n",
      "10 rows affected.\n"
     ]
    },
    {
     "data": {
      "text/html": [
       "<table>\n",
       "    <tr>\n",
       "        <th>country_name</th>\n",
       "        <th>indicator_code</th>\n",
       "        <th>maximum_debt</th>\n",
       "    </tr>\n",
       "    <tr>\n",
       "        <td>China</td>\n",
       "        <td>DT.AMT.DLXF.CD</td>\n",
       "        <td>96218620835.699996948</td>\n",
       "    </tr>\n",
       "    <tr>\n",
       "        <td>Brazil</td>\n",
       "        <td>DT.AMT.DLXF.CD</td>\n",
       "        <td>90041840304.100006104</td>\n",
       "    </tr>\n",
       "    <tr>\n",
       "        <td>China</td>\n",
       "        <td>DT.AMT.DPNG.CD</td>\n",
       "        <td>72392986213.800003052</td>\n",
       "    </tr>\n",
       "    <tr>\n",
       "        <td>Russian Federation</td>\n",
       "        <td>DT.AMT.DLXF.CD</td>\n",
       "        <td>66589761833.5</td>\n",
       "    </tr>\n",
       "    <tr>\n",
       "        <td>Turkey</td>\n",
       "        <td>DT.AMT.DLXF.CD</td>\n",
       "        <td>51555031005.800003052</td>\n",
       "    </tr>\n",
       "    <tr>\n",
       "        <td>South Asia</td>\n",
       "        <td>DT.AMT.DLXF.CD</td>\n",
       "        <td>48756295898.199996948</td>\n",
       "    </tr>\n",
       "    <tr>\n",
       "        <td>Brazil</td>\n",
       "        <td>DT.AMT.PRVT.CD</td>\n",
       "        <td>43598697498.599998474</td>\n",
       "    </tr>\n",
       "    <tr>\n",
       "        <td>Russian Federation</td>\n",
       "        <td>DT.AMT.DPNG.CD</td>\n",
       "        <td>42800154974.900001526</td>\n",
       "    </tr>\n",
       "    <tr>\n",
       "        <td>Brazil</td>\n",
       "        <td>DT.AMT.DPNG.CD</td>\n",
       "        <td>41831444053.300003052</td>\n",
       "    </tr>\n",
       "    <tr>\n",
       "        <td>Least developed countries: UN classification</td>\n",
       "        <td>DT.DIS.DLXF.CD</td>\n",
       "        <td>40160766261.599998474</td>\n",
       "    </tr>\n",
       "</table>"
      ],
      "text/plain": [
       "[('China', 'DT.AMT.DLXF.CD', Decimal('96218620835.699996948')),\n",
       " ('Brazil', 'DT.AMT.DLXF.CD', Decimal('90041840304.100006104')),\n",
       " ('China', 'DT.AMT.DPNG.CD', Decimal('72392986213.800003052')),\n",
       " ('Russian Federation', 'DT.AMT.DLXF.CD', Decimal('66589761833.5')),\n",
       " ('Turkey', 'DT.AMT.DLXF.CD', Decimal('51555031005.800003052')),\n",
       " ('South Asia', 'DT.AMT.DLXF.CD', Decimal('48756295898.199996948')),\n",
       " ('Brazil', 'DT.AMT.PRVT.CD', Decimal('43598697498.599998474')),\n",
       " ('Russian Federation', 'DT.AMT.DPNG.CD', Decimal('42800154974.900001526')),\n",
       " ('Brazil', 'DT.AMT.DPNG.CD', Decimal('41831444053.300003052')),\n",
       " ('Least developed countries: UN classification', 'DT.DIS.DLXF.CD', Decimal('40160766261.599998474'))]"
      ]
     },
     "execution_count": 9,
     "metadata": {},
     "output_type": "execute_result"
    }
   ],
   "source": [
    "%%sql\n",
    "SELECT\n",
    "    country_name,\n",
    "    indicator_code,\n",
    "    MAX(debt) AS maximum_debt\n",
    "FROM international_debt\n",
    "GROUP BY country_name, indicator_code\n",
    "ORDER BY maximum_debt DESC\n",
    "LIMIT 10;"
   ]
  }
 ],
 "metadata": {
  "kernelspec": {
   "display_name": "Python 3",
   "language": "python",
   "name": "python3"
  },
  "language_info": {
   "codemirror_mode": {
    "name": "ipython",
    "version": 3
   },
   "file_extension": ".py",
   "mimetype": "text/x-python",
   "name": "python",
   "nbconvert_exporter": "python",
   "pygments_lexer": "ipython3",
   "version": "3.6.7"
  }
 },
 "nbformat": 4,
 "nbformat_minor": 2
}
